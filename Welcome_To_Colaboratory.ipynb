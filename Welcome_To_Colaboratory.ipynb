{
  "cells": [
    {
      "cell_type": "markdown",
      "metadata": {
        "id": "view-in-github",
        "colab_type": "text"
      },
      "source": [
        "<a href=\"https://colab.research.google.com/github/wesamhamad/Base-Arm_ControlPanel/blob/main/Welcome_To_Colaboratory.ipynb\" target=\"_parent\"><img src=\"https://colab.research.google.com/assets/colab-badge.svg\" alt=\"Open In Colab\"/></a>"
      ]
    },
    {
      "cell_type": "markdown",
      "source": [
        "# **10 points as iput**"
      ],
      "metadata": {
        "id": "uyLmVglZXQRq"
      }
    },
    {
      "cell_type": "markdown",
      "source": [
        "**Naïve version**"
      ],
      "metadata": {
        "id": "cfaSBIBCMByN"
      }
    },
    {
      "cell_type": "code",
      "source": [
        "import math\n",
        "\n",
        "# Haversine distance function\n",
        "def haversine(coord1, coord2):\n",
        "    lat1, lon1 = math.radians(coord1[0]), math.radians(coord1[1])\n",
        "    lat2, lon2 = math.radians(coord2[0]), math.radians(coord2[1])\n",
        "    dlat = lat2 - lat1\n",
        "    dlon = lon2 - lon1\n",
        "    a = math.sin(dlat / 2)**2 + math.cos(lat1) * math.cos(lat2) * math.sin(dlon / 2)**2\n",
        "    c = 2 * math.atan2(math.sqrt(a), math.sqrt(1 - a))\n",
        "    R = 6371  # Radius of Earth in kilometers\n",
        "    return R * c\n",
        "\n",
        "# Naive nearest neighbor TSP solver\n",
        "def naive_nearest_neighbor_tsp(points):\n",
        "    n = len(points)\n",
        "    min_path = None\n",
        "    min_distance = float('inf')\n",
        "\n",
        "    def calculate_path_distance(path):\n",
        "        distance = 0\n",
        "        for i in range(len(path) - 1):\n",
        "            distance += haversine(points[path[i]], points[path[i + 1]])\n",
        "        # Add distance from last to first for a complete tour\n",
        "        distance += haversine(points[path[-1]], points[path[0]])\n",
        "        return distance\n",
        "\n",
        "    def generate_all_paths(current_path, remaining_points):\n",
        "        nonlocal min_path, min_distance\n",
        "        if not remaining_points:\n",
        "            current_distance = calculate_path_distance(current_path)\n",
        "            if current_distance < min_distance:\n",
        "                min_distance = current_distance\n",
        "                min_path = current_path[:]\n",
        "            return\n",
        "\n",
        "        for i in range(len(remaining_points)):\n",
        "            next_point = remaining_points[i]\n",
        "            generate_all_paths(current_path + [next_point], remaining_points[:i] + remaining_points[i+1:])\n",
        "\n",
        "    generate_all_paths([0], list(range(1, n)))\n",
        "\n",
        "    return min_path, min_distance\n",
        "\n",
        "# Qassim region cities GPS coordinates\n",
        "# points = [\n",
        "#     (26.32599, 43.97497),  # Buraidah\n",
        "#     (26.08427, 43.99355),  # Unaizah\n",
        "#     (25.86944, 43.49731),  # Ar Rass\n",
        "#     (26.14422, 43.65986),  # Al Bukayriyah\n",
        "# ]\n",
        "points = [\n",
        "    (26.32599, 43.97497),  # Buraidah\n",
        "    (26.08427, 43.99355),  # Unaizah\n",
        "    (25.86944, 43.49731),  # Ar Rass\n",
        "    (26.14422, 43.65986),  # Al Bukayriyah\n",
        "    (26.29945, 43.77493),  # Al Badayea\n",
        "    (25.79886, 43.52471),  # Al Mithnab\n",
        "    (26.12918, 43.64305),  # Al Rass\n",
        "    (26.08748, 43.76251),  # An Nabhaniyah\n",
        "    (26.07385, 44.30558),  # Badai\n",
        "    (26.16556, 43.70222),  # Mulida\n",
        "]\n",
        "\n",
        "\n",
        "# Use the naive TSP solver with the points\n",
        "tour, total_distance = naive_nearest_neighbor_tsp(points)\n",
        "\n",
        "# Print the tour and total distance\n",
        "print(\"Tour:\", tour)\n",
        "print(\"Total Distance (km):\", total_distance)\n"
      ],
      "metadata": {
        "colab": {
          "base_uri": "https://localhost:8080/"
        },
        "id": "FyKW0sNpL-ud",
        "outputId": "74e52a41-2fa9-468d-cd6b-8285de24ba98"
      },
      "execution_count": null,
      "outputs": [
        {
          "output_type": "stream",
          "name": "stdout",
          "text": [
            "Tour: [0, 8, 1, 7, 5, 2, 6, 3, 9, 4]\n",
            "Total Distance (km): 222.08758743046747\n"
          ]
        }
      ]
    },
    {
      "cell_type": "markdown",
      "source": [
        " Both our implementation and the original brute-force algorithm explore all possible paths to find the shortest one, the way they generate and compare these paths differs. Our method uses a recursive strategy to build and evaluate paths incrementally, whereas the classic brute-force method generates all permutations upfront and then evaluates them."
      ],
      "metadata": {
        "id": "MmH8kJouW-o1"
      }
    },
    {
      "cell_type": "markdown",
      "source": [
        "\n",
        "\n",
        ">\n",
        "\n",
        "**Optimized Nearest Neighbor Heuristic Using a Priority Queue (As Naive)**"
      ],
      "metadata": {
        "id": "OMUXGUyrEfvt"
      }
    },
    {
      "cell_type": "code",
      "source": [
        "import math\n",
        "import heapq\n",
        "\n",
        "def haversine(coord1, coord2):\n",
        "    \"\"\"Calculate the great-circle distance between two points on the Earth.\"\"\"\n",
        "    lat1, lon1 = math.radians(coord1[0]), math.radians(coord1[1])\n",
        "    lat2, lon2 = math.radians(coord2[0]), math.radians(coord2[1])\n",
        "    dlat = lat2 - lat1\n",
        "    dlon = lon2 - lon1\n",
        "    a = math.sin(dlat / 2)**2 + math.cos(lat1) * math.cos(lat2) * math.sin(dlon / 2)**2\n",
        "    c = 2 * math.atan2(math.sqrt(a), math.sqrt(1 - a))\n",
        "    R = 6371  # Radius of Earth in kilometers\n",
        "    return R * c\n",
        "\n",
        "def optimized_nearest_neighbor_tsp(points):\n",
        "    \"\"\"Apply an optimized Nearest Neighbor Heuristic using a priority queue.\"\"\"\n",
        "    total_distance = 0\n",
        "    n = len(points)\n",
        "    tour = [0]\n",
        "    visited = set([0])\n",
        "    min_heap = [(haversine(points[0], points[i]), i) for i in range(1, n)]\n",
        "    heapq.heapify(min_heap)\n",
        "\n",
        "    while len(visited) < n:\n",
        "        _, next_node = heapq.heappop(min_heap)\n",
        "        while next_node in visited:\n",
        "            _, next_node = heapq.heappop(min_heap)\n",
        "        total_distance += haversine(points[tour[-1]], points[next_node])\n",
        "        tour.append(next_node)\n",
        "        visited.add(next_node)\n",
        "        for i in range(n):\n",
        "            if i not in visited:\n",
        "                heapq.heappush(min_heap, (haversine(points[next_node], points[i]), i))\n",
        "\n",
        "    total_distance += haversine(points[tour[-1]], points[tour[0]])  # Return to start\n",
        "    return tour, total_distance\n",
        "\n",
        "# Qassim region cities GPS coordinates\n",
        "points = [\n",
        "    (26.32599, 43.97497),  # Buraidah\n",
        "    (26.08427, 43.99355),  # Unaizah\n",
        "    (25.86944, 43.49731),  # Ar Rass\n",
        "    (26.14422, 43.65986),  # Al Bukayriyah\n",
        "    (26.29945, 43.77493),  # Al Badayea\n",
        "    (25.79886, 43.52471),  # Al Mithnab\n",
        "    (26.12918, 43.64305),  # Al Rass\n",
        "    (26.08748, 43.76251),  # An Nabhaniyah\n",
        "    (26.07385, 44.30558),  # Badai\n",
        "    (26.16556, 43.70222),  # Mulida\n",
        "]\n",
        "\n",
        "\n",
        "tour, total_distance = optimized_nearest_neighbor_tsp(points)\n",
        "\n",
        "# Print the tour and total distance\n",
        "print(\"Tour:\", tour)\n",
        "print(\"Total Distance (km):\", total_distance)\n"
      ],
      "metadata": {
        "colab": {
          "base_uri": "https://localhost:8080/"
        },
        "id": "KE-BkKqhIZhr",
        "outputId": "b9029cf3-369c-4db9-b28b-7726e4c13aa4"
      },
      "execution_count": null,
      "outputs": [
        {
          "output_type": "stream",
          "name": "stdout",
          "text": [
            "Tour: [0, 4, 9, 3, 6, 7, 1, 8, 2, 5]\n",
            "Total Distance (km): 277.122155632146\n"
          ]
        }
      ]
    },
    {
      "cell_type": "markdown",
      "source": [
        "**A star implementation for TSP**"
      ],
      "metadata": {
        "id": "aK0C45UZRZir"
      }
    },
    {
      "cell_type": "code",
      "source": [
        "import math\n",
        "import heapq\n",
        "\n",
        "def haversine(coord1, coord2):\n",
        "    \"\"\"Calculate the great-circle distance between two points on the Earth.\"\"\"\n",
        "    lat1, lon1 = math.radians(coord1[0]), math.radians(coord1[1])\n",
        "    lat2, lon2 = math.radians(coord2[0]), math.radians(coord2[1])\n",
        "    dlat = lat2 - lat1\n",
        "    dlon = lon2 - lon1\n",
        "    a = math.sin(dlat / 2)**2 + math.cos(lat1) * math.cos(lat2) * math.sin(dlon / 2)**2\n",
        "    c = 2 * math.atan2(math.sqrt(a), math.sqrt(1 - a))\n",
        "    R = 6371  # Radius of Earth in kilometers\n",
        "    return R * c\n",
        "\n",
        "def heuristic(node, points, unvisited, start_point):\n",
        "    if not unvisited:\n",
        "        return haversine(points[node], points[start_point])\n",
        "\n",
        "    estimated_min_distance = min(haversine(points[node], points[i]) for i in unvisited)\n",
        "    return estimated_min_distance + min(haversine(points[start_point], points[i]) for i in unvisited)\n",
        "\n",
        "def a_star_tsp(points):\n",
        "    start = 0\n",
        "    visited = set([start])\n",
        "    pq = [(0, start, [start], visited)]\n",
        "\n",
        "    while pq:\n",
        "        cost, node, path, visited = heapq.heappop(pq)\n",
        "\n",
        "        if len(visited) == len(points):\n",
        "            return path, cost + haversine(points[node], points[start])\n",
        "\n",
        "        for i in range(len(points)):\n",
        "            if i not in visited:\n",
        "                new_cost = cost + haversine(points[node], points[i])\n",
        "                new_visited = visited.copy()\n",
        "                new_visited.add(i)\n",
        "                new_path = path + [i]\n",
        "                heapq.heappush(pq, (new_cost + heuristic(i, points, new_visited, start), i, new_path, new_visited))\n",
        "\n",
        "    return [], 0  # Return an empty path and zero cost if no solution is found\n",
        "\n",
        "# Qassim region cities GPS coordinates\n",
        "points = [\n",
        "    (26.32599, 43.97497),  # Buraidah\n",
        "    (26.08427, 43.99355),  # Unaizah\n",
        "    (25.86944, 43.49731),  # Ar Rass\n",
        "    (26.14422, 43.65986),  # Al Bukayriyah\n",
        "    (26.29945, 43.77493),  # Al Badayea\n",
        "    (25.79886, 43.52471),  # Al Mithnab\n",
        "    (26.12918, 43.64305),  # Al Rass\n",
        "    (26.08748, 43.76251),  # An Nabhaniyah\n",
        "    (26.07385, 44.30558),  # Badai\n",
        "    (26.16556, 43.70222),  # Mulida\n",
        "]\n",
        "\n",
        "tour, total_distance = a_star_tsp(points)\n",
        "print(\"Tour:\", tour)\n",
        "print(\"Total Distance (km):\", total_distance)\n"
      ],
      "metadata": {
        "colab": {
          "base_uri": "https://localhost:8080/"
        },
        "id": "Uz14KTQpRaMf",
        "outputId": "adcc4350-052d-4efb-b125-a15939b38f89"
      },
      "execution_count": null,
      "outputs": [
        {
          "output_type": "stream",
          "name": "stdout",
          "text": [
            "Tour: [0, 4, 9, 3, 6, 2, 5, 7, 1, 8]\n",
            "Total Distance (km): 222.08758743046752\n"
          ]
        }
      ]
    },
    {
      "cell_type": "markdown",
      "source": [
        "### Naive `naive_nearest_neighbor_tsp` Function:\n",
        "\n",
        "1. **Time Complexity**: The naive function generates all possible permutations of the points (excluding the starting point) to find the minimum path. If there are \\( n \\) points, the number of permutations is \\( (n-1)! \\). For each permutation, it calculates the total distance, which takes \\( O(n) \\) time. Thus, the time complexity is \\( O(n \\cdot (n-1)!) = ***O(n!)*** \\).\n",
        "\n",
        "2. **Space Complexity**: The function uses recursion to generate paths, and the maximum depth of the recursive call stack will be \\( n \\). It also stores the minimum path and distance, but the space is primarily dominated by the recursion stack and the space needed to store the paths. Thus, the space complexity is \\( ***O(n)*** \\).\n",
        "\n",
        "### Optimized `optimized_nearest_neighbor_tsp` Function:\n",
        "\n",
        "1. **Time Complexity**: For each of the \\( n \\) points, the function might need to check all other \\( n-1 \\) points to find the nearest unvisited neighbor, leading to an \\( O(n^2) \\) time complexity. However, because it uses a min heap (priority queue) to efficiently find the next closest point, each insertion and extraction operation is \\( O(\\log n) \\), leading to an overall time complexity of \\( ***O(n^2 \\log n)*** \\).\n",
        "\n",
        "2. **Space Complexity**: The space complexity is dominated by the storage of the min heap, which contains at most \\( n-1 \\) elements, and the set to track visited nodes. Thus, the space complexity is \\( ***O(n)*** \\).\n",
        "\n"
      ],
      "metadata": {
        "id": "uR7R-_t9Ncye"
      }
    },
    {
      "cell_type": "markdown",
      "source": [
        "# **15 points as iput**"
      ],
      "metadata": {
        "id": "CjLG0T1rX1UP"
      }
    },
    {
      "cell_type": "markdown",
      "source": [
        "**Naïve version**"
      ],
      "metadata": {
        "id": "VTSyyCjpX7E8"
      }
    }
  ],
  "metadata": {
    "colab": {
      "name": "Welcome To Colaboratory",
      "toc_visible": true,
      "provenance": [],
      "include_colab_link": true
    },
    "kernelspec": {
      "display_name": "Python 3",
      "name": "python3"
    }
  },
  "nbformat": 4,
  "nbformat_minor": 0
}